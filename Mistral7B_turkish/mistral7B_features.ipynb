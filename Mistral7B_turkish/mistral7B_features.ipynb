{
 "cells": [
  {
   "cell_type": "code",
   "execution_count": 9,
   "id": "90a31e4f",
   "metadata": {},
   "outputs": [
    {
     "name": "stderr",
     "output_type": "stream",
     "text": [
      "llama_context: n_ctx_per_seq (2048) < n_ctx_train (32768) -- the full capacity of the model will not be utilized\n",
      "llama_kv_cache_unified: LLAMA_SET_ROWS=0, using old ggml_cpy() method for backwards compatibility\n",
      " 20%|██        | 2/10 [03:48<17:17, 129.73s/it]"
     ]
    },
    {
     "name": "stdout",
     "output_type": "stream",
     "text": [
      "\n",
      "📝 Yorum: hızlı geldi hiç bir sorunu yok kullandım olursa da garantisi var almak isteyenler alsın gönül rahatlığıyla alınabilir yeni bu gün geldi o yüzden frenler tam tutmuyor diye düşünüyorum biraz daha iyi\n",
      "📊 Analiz: Bu yorumda orta ilgi seviyesi ve olumlu bir duyguyu ifade ediyor. Bununla birlikte, kullanıcının bir araç satın alıp satmak istemeyecek, çünkü kullanılmayı beklemektedir. Bununla birlikte, kullanıcının sorunu değil, ancak frenlerin çalıştığını belirttiği ve hayal kırıklığı yarattığını belirtisi vardır.\n",
      "\n",
      "Bu yorumu sınıflandırma için kullanılabilecek bazı özellikler şunlardır:\n",
      "1. Sentetim: Olumlu\n",
      "2. Özellikler: Kalite, fiyat, kargo, kullanım, destek\n",
      "3. Artı yönler: Yok\n",
      "4. Eksi yönler: Fren, hayal kırıklığı, memnuniyetsizlik, işin, şanssızlık\n",
      "\n",
      "Cevap:\n",
      "{\n",
      "  \"sentiment\": \"olumlu\",\n",
      "  \"features\": [\"kalite\", \"fiyat\", \"kargo\", \"kullanım\", \"destek\"],\n",
      "  \"pros\": [],\n",
      "  \"cons\": \"fren, hayal kırıklığı, memnuniyetsizlik, iş, şanssızlık\"\n"
     ]
    },
    {
     "name": "stderr",
     "output_type": "stream",
     "text": [
      " 30%|███       | 3/10 [04:40<11:00, 94.36s/it] "
     ]
    },
    {
     "name": "stdout",
     "output_type": "stream",
     "text": [
      "\n",
      "📝 Yorum: İyi\n",
      "📊 Analiz: Örneğin şu:\n",
      "{\n",
      "  \"sentiment\": \"olumsuz\",\n",
      "  \"features\": [\"kullanım\", \"kargo\"],\n",
      "  \"pros\": [\"yüksek kalite\"],\n",
      "  \"cons\": [\"yavaş teslimat\", \"düşük kaliteli çantalar\"]\n"
     ]
    },
    {
     "name": "stderr",
     "output_type": "stream",
     "text": [
      " 50%|█████     | 5/10 [07:56<07:57, 95.44s/it] "
     ]
    },
    {
     "name": "stdout",
     "output_type": "stream",
     "text": [
      "\n",
      "📝 Yorum: Ürün genel anlamda hafif, rampa yukarı kolay çıkış ve güçlü frenleme ile gayet yeterli bir performansta. Fakat selesi çok kötü, kalitesiz ve kısa kullanımlarda bile rahatsız edecek düzeyde. Bu fiyata bu sele olmamış.\n",
      "📊 Analiz: Bu yorumun için şu:\n",
      "{\n",
      "  \"sentiment\": \"olumsuz\",\n",
      "  \"features\": [\"kalite\", \"fiyat\"],\n",
      "  \"pros\": [\"hafif\", \"kolay çıkma\", \"güçlü frenleme\"],\n",
      "  \"cons\": [\"kötü\", \"kalitesiz\", \"kısa kullanımlarda\", \"rahatlık eksikli\", \"üst fiyata\"]\n"
     ]
    },
    {
     "name": "stderr",
     "output_type": "stream",
     "text": [
      " 60%|██████    | 6/10 [09:34<06:24, 96.18s/it]"
     ]
    },
    {
     "name": "stdout",
     "output_type": "stream",
     "text": [
      "\n",
      "📝 Yorum: Henüz alalı 1 hafta kadar oldu neredeyse her gün kullandım, gerçekten kullanımı çok keyifli ve hızlı yol alıyor vites değişimleri güzel  kesinlikle tavsiye ederim.\n",
      "📊 Analiz: Bu yapıda daha sonra değerleri ekleyebilir veya değiştirebilirsiniz.\n",
      "\n",
      "{\n",
      "  \"sentiment\": \"olumlu\",\n",
      "  \"features\": [\"kalite\", \"fiyat\", \"kargo\", \"kullanım\", \"destek\"],\n",
      "  \"pros\": [\"kullanım kolay\", \"kargo hızlı\", \"destek güvenilir\", \"fiyat uygun\", \"kalite yüksek\"],\n",
      "  \"cons\": [\"yok\"]\n"
     ]
    },
    {
     "name": "stderr",
     "output_type": "stream",
     "text": [
      " 70%|███████   | 7/10 [13:57<07:32, 150.82s/it]"
     ]
    },
    {
     "name": "stdout",
     "output_type": "stream",
     "text": [
      "\n",
      "📝 Yorum: inanılmaz rahat yolda çok az kuvvetle daha fazla yol alıyorsunuz.vites değişimleri güzel.\n",
      "📊 Analiz: **Yorumu çevirin:**\n",
      "\n",
      "\"Sınır tanımında çok az güçlü bir şekilde daha da az yol alıyorsunuz.\"\n",
      "\n",
      "\"Yorumu\": \"Yorumu çok olumlu.\"\n",
      "\n",
      "{\n",
      "  \"sentiment\": \"olumlu\",\n",
      "  \"features\": [\"kalite\", \"vites\"],\n",
      "  \"pros\": [\"kalite\", \"yüksek hızlar\", \"yumuşak şeritler\", \"yönetilebilir\", \"yazılı\", \"yazılı\", \"güvenilir\", \"yazılı\", \"yüksek yönetim kalitesi\", \"yazılı\", \"yüksek kaliteli hizmet\", \"yüksek kaliteli ürünler\", \"yüksek kaliteli kullanıcı desteği\", \"yüksek kaliteli yazılım\", \"yüksek kaliteli çevrimiçi pazarlama\", \"yüksek kaliteli ürünler\", \"yüksek kaliteli ürünler\", \"yüksek kaliteli ürünler\", \"yüksek kaliteli ürünler\", \"yüksek kaliteli ürünler\", \"yüksek kaliteli ürünler\", \"yüksek kaliteli ürünler\", \"yüksek kaliteli ürünler\", \"yüksek kaliteli ürünler\", \"yüksek kaliteli ürünler\", \"yüksek kaliteli ürünler\", \"yüksek kaliteli ürünler\", \"yüksek kaliteli ürünler\", \"yüksek kaliteli ürünler\", \"yüksek kaliteli ürünler\", \"yüksek kaliteli ürünler\", \"yüksek kaliteli ürünler\", \"y\n"
     ]
    },
    {
     "name": "stderr",
     "output_type": "stream",
     "text": [
      "100%|██████████| 10/10 [17:26<00:00, 104.61s/it]"
     ]
    },
    {
     "name": "stdout",
     "output_type": "stream",
     "text": [
      "\n",
      "📝 Yorum: çok şık ve rahat başlangıç için aldım vazgeçemiyorum. tek ayna kol kullanımı çok kolaylaştırıyor.Hafif olması uzun yolda hızlı gitmesi çok iyi. öyle binerim diye aldım şimdi 40 50 km gurup turlarına katiliyorum\n",
      "📊 Analiz: Çıktı:\n",
      "{\n",
      "  \"sentiment\": \"olumlu\",\n",
      "  \"features\": [\"kullanım\", \"hafif\", \"tamamlayıcı\"],\n",
      "  \"pros\": [\"çok kolaylaştırıcı\", \"teknolojiyle ilerlediği gibi\", \"yolculuklarında kullanışlı\"],\n",
      "  \"cons\": [\"kullanışlıkla ilgili şeyler\", \"yüksek fiyatlı\", \"düşük kalite\"]\n"
     ]
    },
    {
     "name": "stderr",
     "output_type": "stream",
     "text": [
      "\n"
     ]
    }
   ],
   "source": [
    "from llama_cpp import Llama\n",
    "import pandas as pd\n",
    "from tqdm import tqdm\n",
    "\n",
    "# 1. GGUF modeli yükle\n",
    "llm = Llama(\n",
    "    model_path=\"mistral-7b-instruct-v0.2-turkish.Q3_K_M.gguf\",\n",
    "    n_ctx=2048,\n",
    "    n_threads=4,\n",
    "    n_gpu_layers=0,\n",
    "    verbose=False\n",
    ")\n",
    "\n",
    "# 2. Prompt şablonu\n",
    "def build_prompt(text):\n",
    "    return f\"\"\"Aşağıdaki yorumu incele:\n",
    "\n",
    "{text}\n",
    "\n",
    "Yorumdan şu bilgileri çıkar:\n",
    "1. sentiment: positive, negative, neutral\n",
    "2. features: kalite, fiyat, kargo, kullanım, destek (birden fazla olabilir)\n",
    "3. pros: artı yönler\n",
    "4. cons: eksi yönler\n",
    "\n",
    "Cevabı bu yapıda ver:\n",
    "{{\n",
    "  \"sentiment\": \"...\",\n",
    "  \"features\": [\"...\"],\n",
    "  \"pros\": [\"...\"],\n",
    "  \"cons\": [\"...\"]\n",
    "}}\"\"\"\n",
    "\n",
    "# 3. CSV dosyasını yükle\n",
    "df = pd.read_csv(\"tum_yorumlar.csv\")\n",
    "\n",
    "# 4. Yorumlar sütunu belirle (varsayılan: ilk sütun)\n",
    "yorumlar = df.iloc[:, 0].dropna().tolist()  # boş olmayanları al\n",
    "\n",
    "# 5. 20–30 arası yorumları analiz et\n",
    "for yorum_metin in tqdm(yorumlar[20:30]):\n",
    "    yorum_metin = yorum_metin.strip()\n",
    "    prompt = build_prompt(yorum_metin)\n",
    "    output = llm(prompt, max_tokens=512, stop=[\"}\"])\n",
    "\n",
    "    tahmin = output[\"choices\"][0][\"text\"].strip()\n",
    "\n",
    "    # ⚠️ Model boş veya hatalı yanıt verdiyse atla\n",
    "    if not tahmin or \"sentiment\" not in tahmin:\n",
    "        continue\n",
    "\n",
    "    print(\"\\n📝 Yorum:\", yorum_metin)\n",
    "    print(\"📊 Analiz:\", tahmin)\n"
   ]
  },
  {
   "cell_type": "code",
   "execution_count": null,
   "id": "332c3e04",
   "metadata": {},
   "outputs": [],
   "source": []
  }
 ],
 "metadata": {
  "kernelspec": {
   "display_name": "Python 3",
   "language": "python",
   "name": "python3"
  },
  "language_info": {
   "codemirror_mode": {
    "name": "ipython",
    "version": 3
   },
   "file_extension": ".py",
   "mimetype": "text/x-python",
   "name": "python",
   "nbconvert_exporter": "python",
   "pygments_lexer": "ipython3",
   "version": "3.13.5"
  }
 },
 "nbformat": 4,
 "nbformat_minor": 5
}
