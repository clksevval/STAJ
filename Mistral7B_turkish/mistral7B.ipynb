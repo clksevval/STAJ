{
 "cells": [
  {
   "cell_type": "code",
   "execution_count": 3,
   "id": "f584a235",
   "metadata": {},
   "outputs": [
    {
     "name": "stderr",
     "output_type": "stream",
     "text": [
      "llama_context: n_ctx_per_seq (1024) < n_ctx_train (32768) -- the full capacity of the model will not be utilized\n",
      "llama_kv_cache_unified: LLAMA_SET_ROWS=0, using old ggml_cpy() method for backwards compatibility\n"
     ]
    }
   ],
   "source": [
    "from llama_cpp import Llama\n",
    "import json\n",
    "from sklearn.metrics import accuracy_score, classification_report\n",
    "from tqdm import tqdm\n",
    "\n",
    "# 1. GGUF modeli yükle\n",
    "llm = Llama(\n",
    "    model_path=\"mistral-7b-instruct-v0.2-turkish.Q3_K_M.gguf\",\n",
    "    n_ctx=1024,\n",
    "    n_threads=4,\n",
    "    n_gpu_layers=0,\n",
    "    verbose=False\n",
    ")\n",
    "\n",
    "# 2. Tahmin fonksiyonu\n",
    "def analyze_sentiment(text):\n",
    "    prompt = f\"\"\"Aşağıdaki müşteri yorumunun duygu analizini yap. Sadece şunlardan birini yaz: Pozitif, Negatif, Nötr.\n",
    "\n",
    "Yorum: \"{text}\"\n",
    "Cevap:\"\"\"\n",
    "    output = llm(prompt, max_tokens=32)\n",
    "    return output[\"choices\"][0][\"text\"].strip().lower()\n",
    "\n",
    "# 3. Etiket dönüşüm tablosu\n",
    "etiket_map = {\n",
    "    \"pozitif\": 1,\n",
    "    \"olumlu\": 1,\n",
    "    \"nötr\": 0,\n",
    "    \"neutral\": 0,\n",
    "    \"negatif\": 2,\n",
    "    \"olumsuz\": 2\n",
    "}\n"
   ]
  },
  {
   "cell_type": "code",
   "execution_count": 4,
   "id": "a255c89d",
   "metadata": {},
   "outputs": [
    {
     "name": "stderr",
     "output_type": "stream",
     "text": [
      "100%|██████████| 20/20 [05:10<00:00, 15.51s/it]"
     ]
    },
    {
     "name": "stdout",
     "output_type": "stream",
     "text": [
      "🔢 Tahmin Sayısı: 11\n",
      "🎯 Gerçek Etiket Sayısı: 11\n",
      "✅ Accuracy: 0.9090909090909091\n",
      "📊 Classification Report:\n",
      "              precision    recall  f1-score   support\n",
      "\n",
      "        Nötr       0.00      0.00      0.00         1\n",
      "     Pozitif       0.91      1.00      0.95        10\n",
      "     Negatif       0.00      0.00      0.00         0\n",
      "\n",
      "    accuracy                           0.91        11\n",
      "   macro avg       0.30      0.33      0.32        11\n",
      "weighted avg       0.83      0.91      0.87        11\n",
      "\n"
     ]
    },
    {
     "name": "stderr",
     "output_type": "stream",
     "text": [
      "\n",
      "c:\\Users\\ŞEVVAL\\AppData\\Local\\Programs\\Python\\Python313\\Lib\\site-packages\\sklearn\\metrics\\_classification.py:1706: UndefinedMetricWarning: Precision is ill-defined and being set to 0.0 in labels with no predicted samples. Use `zero_division` parameter to control this behavior.\n",
      "  _warn_prf(average, modifier, f\"{metric.capitalize()} is\", result.shape[0])\n",
      "c:\\Users\\ŞEVVAL\\AppData\\Local\\Programs\\Python\\Python313\\Lib\\site-packages\\sklearn\\metrics\\_classification.py:1706: UndefinedMetricWarning: Recall is ill-defined and being set to 0.0 in labels with no true samples. Use `zero_division` parameter to control this behavior.\n",
      "  _warn_prf(average, modifier, f\"{metric.capitalize()} is\", result.shape[0])\n",
      "c:\\Users\\ŞEVVAL\\AppData\\Local\\Programs\\Python\\Python313\\Lib\\site-packages\\sklearn\\metrics\\_classification.py:1706: UndefinedMetricWarning: F-score is ill-defined and being set to 0.0 in labels with no true nor predicted samples. Use `zero_division` parameter to control this behavior.\n",
      "  _warn_prf(average, modifier, f\"{metric.capitalize()} is\", result.shape[0])\n",
      "c:\\Users\\ŞEVVAL\\AppData\\Local\\Programs\\Python\\Python313\\Lib\\site-packages\\sklearn\\metrics\\_classification.py:1706: UndefinedMetricWarning: Precision is ill-defined and being set to 0.0 in labels with no predicted samples. Use `zero_division` parameter to control this behavior.\n",
      "  _warn_prf(average, modifier, f\"{metric.capitalize()} is\", result.shape[0])\n",
      "c:\\Users\\ŞEVVAL\\AppData\\Local\\Programs\\Python\\Python313\\Lib\\site-packages\\sklearn\\metrics\\_classification.py:1706: UndefinedMetricWarning: Recall is ill-defined and being set to 0.0 in labels with no true samples. Use `zero_division` parameter to control this behavior.\n",
      "  _warn_prf(average, modifier, f\"{metric.capitalize()} is\", result.shape[0])\n",
      "c:\\Users\\ŞEVVAL\\AppData\\Local\\Programs\\Python\\Python313\\Lib\\site-packages\\sklearn\\metrics\\_classification.py:1706: UndefinedMetricWarning: F-score is ill-defined and being set to 0.0 in labels with no true nor predicted samples. Use `zero_division` parameter to control this behavior.\n",
      "  _warn_prf(average, modifier, f\"{metric.capitalize()} is\", result.shape[0])\n",
      "c:\\Users\\ŞEVVAL\\AppData\\Local\\Programs\\Python\\Python313\\Lib\\site-packages\\sklearn\\metrics\\_classification.py:1706: UndefinedMetricWarning: Precision is ill-defined and being set to 0.0 in labels with no predicted samples. Use `zero_division` parameter to control this behavior.\n",
      "  _warn_prf(average, modifier, f\"{metric.capitalize()} is\", result.shape[0])\n",
      "c:\\Users\\ŞEVVAL\\AppData\\Local\\Programs\\Python\\Python313\\Lib\\site-packages\\sklearn\\metrics\\_classification.py:1706: UndefinedMetricWarning: Recall is ill-defined and being set to 0.0 in labels with no true samples. Use `zero_division` parameter to control this behavior.\n",
      "  _warn_prf(average, modifier, f\"{metric.capitalize()} is\", result.shape[0])\n",
      "c:\\Users\\ŞEVVAL\\AppData\\Local\\Programs\\Python\\Python313\\Lib\\site-packages\\sklearn\\metrics\\_classification.py:1706: UndefinedMetricWarning: F-score is ill-defined and being set to 0.0 in labels with no true nor predicted samples. Use `zero_division` parameter to control this behavior.\n",
      "  _warn_prf(average, modifier, f\"{metric.capitalize()} is\", result.shape[0])\n"
     ]
    }
   ],
   "source": [
    "with open(\"etiketli_yorumlar_mistral.json\", \"r\", encoding=\"utf-8\") as f:\n",
    "    etiketli = json.load(f)[\"reviews\"]\n",
    "\n",
    "# Gerçek etiketli yorumları al\n",
    "yorumlar_test = [y for y in etiketli if isinstance(y.get(\"label\"), int)]\n",
    "\n",
    "# Tahminler\n",
    "y_true, y_pred = [], []\n",
    "\n",
    "for yorum in tqdm(yorumlar_test[:20]):  # test için ilk 20\n",
    "    yorum_text = yorum[\"comment\"].strip()\n",
    "    tahmin = analyze_sentiment(yorum_text)\n",
    "    tahmin_encoded = etiket_map.get(tahmin, -1)\n",
    "\n",
    "    if tahmin_encoded != -1:\n",
    "        y_pred.append(tahmin_encoded)\n",
    "        y_true.append(yorum[\"label\"])  # Artık direkt alabiliyoruz\n",
    "\n",
    "# Değerlendirme\n",
    "print(\"🔢 Tahmin Sayısı:\", len(y_pred))\n",
    "print(\"🎯 Gerçek Etiket Sayısı:\", len(y_true))\n",
    "\n",
    "if len(set(y_true)) > 0:\n",
    "    print(\"✅ Accuracy:\", accuracy_score(y_true, y_pred))\n",
    "    print(\"📊 Classification Report:\")\n",
    "    print(classification_report(\n",
    "        y_true,\n",
    "        y_pred,\n",
    "        target_names=[\"Nötr\", \"Pozitif\", \"Negatif\"],\n",
    "        labels=[0, 1, 2]\n",
    "    ))\n",
    "else:\n",
    "    print(\"⚠️ Uyarı: Gerçek etiketlerde sınıf bulunamadı.\")\n"
   ]
  },
  {
   "cell_type": "code",
   "execution_count": 5,
   "id": "aeb915fa",
   "metadata": {},
   "outputs": [
    {
     "name": "stdout",
     "output_type": "stream",
     "text": [
      "\n",
      "❌ Yanlış Tahmin:\n",
      "Yorum: iki yıl geçmesine ragmen bir sorun yaşamadım hafif ve kullanışlı\n",
      "Beklenen: 0 | Tahmin: 1\n"
     ]
    }
   ],
   "source": [
    "for yt, yp, y in zip(y_true, y_pred, yorumlar_test[:20]):\n",
    "    if yt != yp:\n",
    "        print(f\"\\n❌ Yanlış Tahmin:\\nYorum: {y['comment']}\\nBeklenen: {yt} | Tahmin: {yp}\")\n"
   ]
  },
  {
   "cell_type": "code",
   "execution_count": 8,
   "id": "81df4545",
   "metadata": {},
   "outputs": [
    {
     "name": "stdout",
     "output_type": "stream",
     "text": [
      "\n",
      "📝 Yorum: Ürün beklediğimden çok daha iyi geldi, paketleme harikaydı.\n",
      "📊 Tahmin: pozitif.\n",
      "\n",
      "📝 Yorum: Berbat bir deneyimdi, bir daha asla sipariş vermem.\n",
      "📊 Tahmin: olumsuz.\n",
      "\n",
      "📝 Yorum: Ne iyi ne kötü, idare eder.\n",
      "📊 Tahmin: doğal.\n",
      "\n",
      "📝 Yorum: Kargo biraz gecikti ama müşteri hizmetleri yardımcı oldu.\n",
      "📊 Tahmin: doğal.\n",
      "\n",
      "📝 Yorum: Rengi fotoğraftakinden çok farklı geldi, hayal kırıklığı.\n",
      "📊 Tahmin: olumsuz\n",
      "\n",
      "📝 Yorum: Ürün fena değil fiyat performans\n",
      "📊 Tahmin: doğal.\n",
      "\n",
      "📝 Yorum: Hiç beğenmedim selesi sert kalitesiz\n",
      "📊 Tahmin: negatif.\n",
      "\n",
      "📝 Yorum: Ürünün kalitesi çok iyi\n",
      "📊 Tahmin: pozitif\n",
      "\n",
      "📝 Yorum: Daha iyi olabilirdi\n",
      "📊 Tahmin: doğal.\n",
      "\n",
      "📝 Yorum: Çok güzel ürün dağdan aşağı kaydım\n",
      "📊 Tahmin: pozitif.\n"
     ]
    }
   ],
   "source": [
    "# Örnek yorum listesi\n",
    "ornek_yorumlar = [\n",
    "    \"Ürün beklediğimden çok daha iyi geldi, paketleme harikaydı.\",\n",
    "    \"Berbat bir deneyimdi, bir daha asla sipariş vermem.\",\n",
    "    \"Ne iyi ne kötü, idare eder.\",\n",
    "    \"Kargo biraz gecikti ama müşteri hizmetleri yardımcı oldu.\",\n",
    "    \"Rengi fotoğraftakinden çok farklı geldi, hayal kırıklığı.\",\n",
    "    \"Ürün fena değil fiyat performans\",\n",
    "    \"Hiç beğenmedim selesi sert kalitesiz\",\n",
    "    \"Ürünün kalitesi çok iyi\",\n",
    "    \"Daha iyi olabilirdi\",\n",
    "    \"Çok güzel ürün dağdan aşağı kaydım\"\n",
    "]\n",
    "\n",
    "# Tahmin et\n",
    "for yorum in ornek_yorumlar:\n",
    "    sonuc = analyze_sentiment(yorum)\n",
    "    print(f\"\\n📝 Yorum: {yorum}\")\n",
    "    print(f\"📊 Tahmin: {sonuc}\")\n"
   ]
  }
 ],
 "metadata": {
  "kernelspec": {
   "display_name": "Python 3",
   "language": "python",
   "name": "python3"
  },
  "language_info": {
   "codemirror_mode": {
    "name": "ipython",
    "version": 3
   },
   "file_extension": ".py",
   "mimetype": "text/x-python",
   "name": "python",
   "nbconvert_exporter": "python",
   "pygments_lexer": "ipython3",
   "version": "3.13.5"
  }
 },
 "nbformat": 4,
 "nbformat_minor": 5
}
