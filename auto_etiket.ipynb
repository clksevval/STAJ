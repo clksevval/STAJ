{
 "cells": [
  {
   "cell_type": "code",
   "execution_count": null,
   "id": "e4d25524",
   "metadata": {},
   "outputs": [
    {
     "name": "stderr",
     "output_type": "stream",
     "text": [
      "100%|██████████| 101/101 [01:54<00:00,  1.14s/it]"
     ]
    },
    {
     "name": "stdout",
     "output_type": "stream",
     "text": [
      "\n",
      "✅ Etiketleme tamamlandı. 'etiketli_yorumlar_mistral.json' dosyasına kaydedildi.\n"
     ]
    },
    {
     "name": "stderr",
     "output_type": "stream",
     "text": [
      "\n"
     ]
    }
   ],
   "source": [
    "import json\n",
    "import subprocess\n",
    "import time\n",
    "from tqdm import tqdm\n",
    "\n",
    "def load_yorumlar(json_path):\n",
    "    with open(json_path, \"r\", encoding=\"utf-8\") as f:\n",
    "        data = json.load(f)\n",
    "    return [item.get(\"comment\", \"\") for item in data[\"reviews\"]]\n",
    "\n",
    "def ollama_etiketle(yorum, model=\"mistral\"):\n",
    "    prompt = f\"\"\"\n",
    "Sen bir duygu analiz modelisin. Aşağıdaki Türkçe kullanıcı yorumunu okuduktan sonra, yalnızca yorumun duygusunu temsil eden bir sayı döndür.\n",
    "\n",
    "Etiket kuralları:\n",
    "- 1 → Pozitif\n",
    "- 0 → Nötr\n",
    "- 2 → Negatif\n",
    "\n",
    "Örnekler:\n",
    "• \"Ürün harika, çok memnun kaldım.\" → 1\n",
    "• \"Beklediğim gibi geldi, fena değil.\" → 0\n",
    "• \"Bozuk geldi, iade ettim.\" → 2\n",
    "\n",
    "Şimdi şu yorumu değerlendir:\n",
    "\"{yorum}\"\n",
    "\n",
    "Sadece bir sayı döndür. Açıklama yazma.\n",
    "Cevap:\n",
    "\"\"\".strip()\n",
    "\n",
    "    try:\n",
    "        result = subprocess.run(\n",
    "            [\"ollama\", \"run\", model],\n",
    "            input=prompt.encode(\"utf-8\"),\n",
    "            capture_output=True,\n",
    "            timeout=60\n",
    "        )\n",
    "        output = result.stdout.decode(\"utf-8\").strip()\n",
    "        for token in output.split():\n",
    "            if token.strip() in [\"0\", \"1\", \"2\"]:\n",
    "                return int(token.strip())\n",
    "    except Exception as e:\n",
    "        print(f\"⚠️ Hata: {e}\")\n",
    "    return 0\n",
    "\n",
    "\n",
    "def toplu_etiketle(yorumlar):\n",
    "    etiketli = []\n",
    "    for yorum in tqdm(yorumlar):\n",
    "        etiket = ollama_etiketle(yorum)\n",
    "        etiketli.append({\"comment\": yorum, \"label\": etiket})\n",
    "        time.sleep(1)  # Ollama'yı yormamak için beklet\n",
    "    return etiketli\n",
    "\n",
    "def kaydet_json(data, cikis_yolu=\"etiketli_yorumlar_mistral.json\"):\n",
    "    with open(cikis_yolu, \"w\", encoding=\"utf-8\") as f:\n",
    "        json.dump({\"reviews\": data}, f, ensure_ascii=False, indent=2)\n",
    "\n",
    "if __name__ == \"__main__\":\n",
    "    yorumlar = load_yorumlar(\"response.json\")\n",
    "    etiketli_yorumlar = toplu_etiketle(yorumlar)\n",
    "    kaydet_json(etiketli_yorumlar)\n",
    "    print(\"\\n✅ Etiketleme tamamlandı. 'etiketli_yorumlar_mistral.json' dosyasına kaydedildi.\")\n"
   ]
  }
 ],
 "metadata": {
  "kernelspec": {
   "display_name": "Python 3",
   "language": "python",
   "name": "python3"
  },
  "language_info": {
   "codemirror_mode": {
    "name": "ipython",
    "version": 3
   },
   "file_extension": ".py",
   "mimetype": "text/x-python",
   "name": "python",
   "nbconvert_exporter": "python",
   "pygments_lexer": "ipython3",
   "version": "3.13.5"
  }
 },
 "nbformat": 4,
 "nbformat_minor": 5
}
