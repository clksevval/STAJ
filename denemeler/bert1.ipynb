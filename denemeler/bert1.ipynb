{
 "cells": [
  {
   "cell_type": "code",
   "execution_count": 9,
   "id": "f0c84709",
   "metadata": {},
   "outputs": [],
   "source": [
    "from transformers import AutoTokenizer, AutoModelForSequenceClassification\n",
    "from sklearn.metrics import classification_report, accuracy_score\n",
    "from torch.nn.functional import softmax\n",
    "import torch\n",
    "import pandas as pd\n",
    "import json\n",
    "from sklearn.model_selection import train_test_split\n"
   ]
  },
  {
   "cell_type": "code",
   "execution_count": 10,
   "id": "4bc4abc8",
   "metadata": {},
   "outputs": [],
   "source": [
    "with open(\"etiketli_yorumlar_mistral.json\", \"r\", encoding=\"utf-8\") as f:\n",
    "    data = json.load(f)\n",
    "\n",
    "df = pd.DataFrame(data[\"reviews\"])\n",
    "X = df[\"comment\"]\n",
    "y = df[\"label\"]\n"
   ]
  },
  {
   "cell_type": "code",
   "execution_count": 11,
   "id": "7cf0af6f",
   "metadata": {},
   "outputs": [
    {
     "name": "stdout",
     "output_type": "stream",
     "text": [
      "label\n",
      "1    60\n",
      "2    60\n",
      "0    60\n",
      "Name: count, dtype: int64\n"
     ]
    }
   ],
   "source": [
    "from sklearn.utils import resample\n",
    "import pandas as pd\n",
    "\n",
    "# Orijinal dataframe (yorum + etiket)\n",
    "df_minority = df[df[\"label\"] == 2]  # Negatif\n",
    "df_neutral = df[df[\"label\"] == 0]   # Nötr\n",
    "df_majority = df[df[\"label\"] == 1]  # Pozitif\n",
    "\n",
    "# Oversample minority to match majority\n",
    "df_minority_upsampled = resample(df_minority, \n",
    "                                 replace=True,\n",
    "                                 n_samples=len(df_majority),\n",
    "                                 random_state=42)\n",
    "\n",
    "df_neutral_upsampled = resample(df_neutral, \n",
    "                                replace=True,\n",
    "                                n_samples=len(df_majority),\n",
    "                                random_state=42)\n",
    "\n",
    "# Birleştir\n",
    "df_balanced = pd.concat([df_majority, df_neutral_upsampled, df_minority_upsampled])\n",
    "df_balanced = df_balanced.sample(frac=1, random_state=42)  # Shuffle\n",
    "\n",
    "print(df_balanced[\"label\"].value_counts())\n"
   ]
  },
  {
   "cell_type": "code",
   "execution_count": 12,
   "id": "266dd66f",
   "metadata": {},
   "outputs": [],
   "source": [
    "X = df_balanced[\"comment\"]\n",
    "y = df_balanced[\"label\"]\n",
    "\n",
    "X_train, X_test, y_train, y_test = train_test_split(\n",
    "    X, y, test_size=0.2, stratify=y, random_state=42\n",
    ")\n"
   ]
  },
  {
   "cell_type": "code",
   "execution_count": 13,
   "id": "c2503add",
   "metadata": {},
   "outputs": [],
   "source": [
    "model_name = \"savasy/bert-base-turkish-sentiment-cased\"\n",
    "tokenizer = AutoTokenizer.from_pretrained(model_name)\n",
    "model = AutoModelForSequenceClassification.from_pretrained(model_name)\n"
   ]
  },
  {
   "cell_type": "code",
   "execution_count": 14,
   "id": "c93317f0",
   "metadata": {},
   "outputs": [],
   "source": [
    "def bert_sentiment(texts):\n",
    "    inputs = tokenizer(texts, return_tensors=\"pt\", padding=True, truncation=True, max_length=512)\n",
    "    with torch.no_grad():\n",
    "        outputs = model(**inputs)\n",
    "    probs = softmax(outputs.logits, dim=1)\n",
    "    bert_labels = torch.argmax(probs, dim=1).numpy()\n",
    "    # Orijinal sıralama: 0=negatif, 1=nötr, 2=pozitif → Bizim için: 2=negatif, 0=nötr, 1=pozitif\n",
    "    conversion = {0: 2, 1: 0, 2: 1}  # Yeni etiket haritası\n",
    "    mapped = [conversion[int(label)] for label in bert_labels]\n",
    "    return mapped\n"
   ]
  },
  {
   "cell_type": "code",
   "execution_count": 15,
   "id": "406345a0",
   "metadata": {},
   "outputs": [
    {
     "name": "stdout",
     "output_type": "stream",
     "text": [
      "🎯 Accuracy: 0.5277777777777778\n",
      "\n",
      "📊 Classification Report:\n",
      "\n",
      "              precision    recall  f1-score   support\n",
      "\n",
      "           0      0.438     0.583     0.500        12\n",
      "           1      0.000     0.000     0.000        12\n",
      "           2      0.600     1.000     0.750        12\n",
      "\n",
      "    accuracy                          0.528        36\n",
      "   macro avg      0.346     0.528     0.417        36\n",
      "weighted avg      0.346     0.528     0.417        36\n",
      "\n"
     ]
    },
    {
     "name": "stderr",
     "output_type": "stream",
     "text": [
      "c:\\Users\\ŞEVVAL\\AppData\\Local\\Programs\\Python\\Python313\\Lib\\site-packages\\sklearn\\metrics\\_classification.py:1706: UndefinedMetricWarning: Precision is ill-defined and being set to 0.0 in labels with no predicted samples. Use `zero_division` parameter to control this behavior.\n",
      "  _warn_prf(average, modifier, f\"{metric.capitalize()} is\", result.shape[0])\n",
      "c:\\Users\\ŞEVVAL\\AppData\\Local\\Programs\\Python\\Python313\\Lib\\site-packages\\sklearn\\metrics\\_classification.py:1706: UndefinedMetricWarning: Precision is ill-defined and being set to 0.0 in labels with no predicted samples. Use `zero_division` parameter to control this behavior.\n",
      "  _warn_prf(average, modifier, f\"{metric.capitalize()} is\", result.shape[0])\n",
      "c:\\Users\\ŞEVVAL\\AppData\\Local\\Programs\\Python\\Python313\\Lib\\site-packages\\sklearn\\metrics\\_classification.py:1706: UndefinedMetricWarning: Precision is ill-defined and being set to 0.0 in labels with no predicted samples. Use `zero_division` parameter to control this behavior.\n",
      "  _warn_prf(average, modifier, f\"{metric.capitalize()} is\", result.shape[0])\n"
     ]
    }
   ],
   "source": [
    "y_pred = bert_sentiment(X_test.tolist())\n",
    "\n",
    "print(\"🎯 Accuracy:\", accuracy_score(y_test, y_pred))\n",
    "print(\"\\n📊 Classification Report:\\n\")\n",
    "print(classification_report(y_test, y_pred, digits=3))\n"
   ]
  },
  {
   "cell_type": "code",
   "execution_count": 16,
   "id": "1df6942e",
   "metadata": {},
   "outputs": [
    {
     "data": {
      "image/png": "[encoded data removed]",
      "text/plain": [
       "<Figure size 640x480 with 2 Axes>"
      ]
     },
     "metadata": {},
     "output_type": "display_data"
    }
   ],
   "source": [
    "from sklearn.metrics import confusion_matrix\n",
    "import seaborn as sns\n",
    "import matplotlib.pyplot as plt\n",
    "\n",
    "cm = confusion_matrix(y_test, y_pred)\n",
    "sns.heatmap(cm, annot=True, fmt=\"d\", cmap=\"Blues\")\n",
    "plt.xlabel(\"Tahmin\")\n",
    "plt.ylabel(\"Gerçek\")\n",
    "plt.title(\"Confusion Matrix\")\n",
    "plt.show()\n"
   ]
  },
  {
   "cell_type": "code",
   "execution_count": 17,
   "id": "e48c0751",
   "metadata": {},
   "outputs": [
    {
     "name": "stdout",
     "output_type": "stream",
     "text": [
      "📝 Yorum: Ürün elime ulaştı, henüz denemedim.\n",
      "🔍 Tahmin: Negatif\n",
      "\n",
      "📝 Yorum: Kargo hızlı geldi, paketleme harikaydı.\n",
      "🔍 Tahmin: Nötr\n",
      "\n",
      "📝 Yorum: Çalışmadı, hemen iade ettim.\n",
      "🔍 Tahmin: Negatif\n",
      "\n",
      "📝 Yorum: Kullandım, fena değil ama pek bir şey hissettirmedi.\n",
      "🔍 Tahmin: Negatif\n",
      "\n",
      "📝 Yorum: Beklentimin çok üzerinde bir ürün.\n",
      "🔍 Tahmin: Negatif\n",
      "\n",
      "📝 Yorum: Kırık geldi, müşteri hizmetleri de ilgilenmedi.\n",
      "🔍 Tahmin: Negatif\n",
      "\n"
     ]
    }
   ],
   "source": [
    "# Örnek yorumlar\n",
    "yorumlar = [\n",
    "    \"Ürün elime ulaştı, henüz denemedim.\",           # Nötr\n",
    "    \"Kargo hızlı geldi, paketleme harikaydı.\",       # Pozitif\n",
    "    \"Çalışmadı, hemen iade ettim.\",                  # Negatif\n",
    "    \"Kullandım, fena değil ama pek bir şey hissettirmedi.\",  # Nötr\n",
    "    \"Beklentimin çok üzerinde bir ürün.\",            # Pozitif\n",
    "    \"Kırık geldi, müşteri hizmetleri de ilgilenmedi.\" # Negatif\n",
    "]\n",
    "\n",
    "# Tahmin et\n",
    "tahminler = bert_sentiment(yorumlar)\n",
    "etiket_map = {0: \"Nötr\", 1: \"Pozitif\", 2: \"Negatif\"}\n",
    "\n",
    "# Sonuçları yazdır\n",
    "for yorum, etiket in zip(yorumlar, tahminler):\n",
    "    print(f\"📝 Yorum: {yorum}\\n🔍 Tahmin: {etiket_map[etiket]}\\n\")\n"
   ]
  },
  {
   "cell_type": "code",
   "execution_count": 18,
   "id": "08e1ca88",
   "metadata": {},
   "outputs": [
    {
     "name": "stdout",
     "output_type": "stream",
     "text": [
      "📝 Yorum: Ürün elime ulaştı, henüz denemedim.\n",
      "🔍 BERT Tahmini: Negatif\n",
      "\n",
      "📝 Yorum: Kargo hızlı geldi, paketleme harikaydı.\n",
      "🔍 BERT Tahmini: Nötr\n",
      "\n",
      "📝 Yorum: Çalışmadı, hemen iade ettim.\n",
      "🔍 BERT Tahmini: Negatif\n",
      "\n",
      "📝 Yorum: Kullandım, fena değil ama pek bir şey hissettirmedi.\n",
      "🔍 BERT Tahmini: Negatif\n",
      "\n",
      "📝 Yorum: Beklentimin çok üzerinde bir ürün.\n",
      "🔍 BERT Tahmini: Negatif\n",
      "\n",
      "📝 Yorum: Kırık geldi, müşteri hizmetleri de ilgilenmedi.\n",
      "🔍 BERT Tahmini: Negatif\n",
      "\n"
     ]
    }
   ],
   "source": [
    "def bert_sentiment_raw(texts):\n",
    "    inputs = tokenizer(texts, return_tensors=\"pt\", padding=True, truncation=True, max_length=512)\n",
    "    with torch.no_grad():\n",
    "        outputs = model(**inputs)\n",
    "    probs = softmax(outputs.logits, dim=1)\n",
    "    return torch.argmax(probs, dim=1).numpy()\n",
    "\n",
    "# Tahminleri gerçek (BERT’in kendi etiketleriyle) göre al\n",
    "tahminler_raw = bert_sentiment_raw(yorumlar)\n",
    "etiket_map_raw = {0: \"Negatif\", 1: \"Nötr\", 2: \"Pozitif\"}\n",
    "\n",
    "for yorum, etiket in zip(yorumlar, tahminler_raw):\n",
    "    print(f\"📝 Yorum: {yorum}\\n🔍 BERT Tahmini: {etiket_map_raw[etiket]}\\n\")\n"
   ]
  }
 ],
 "metadata": {
  "kernelspec": {
   "display_name": "Python 3",
   "language": "python",
   "name": "python3"
  },
  "language_info": {
   "codemirror_mode": {
    "name": "ipython",
    "version": 3
   },
   "file_extension": ".py",
   "mimetype": "text/x-python",
   "name": "python",
   "nbconvert_exporter": "python",
   "pygments_lexer": "ipython3",
   "version": "3.13.5"
  }
 },
 "nbformat": 4,
 "nbformat_minor": 5
}
