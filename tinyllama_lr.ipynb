{
 "cells": [
  {
   "cell_type": "code",
   "execution_count": 1,
   "id": "fcab9835",
   "metadata": {},
   "outputs": [
    {
     "name": "stdout",
     "output_type": "stream",
     "text": [
      "                                             comment  label\n",
      "0  Harika tek kelimeyle çok iyi bir bisiklet<br>F...      0\n",
      "1     Ürün çok güzel sadece koltuk biraz fazla sert.      1\n",
      "2  Önceden mtb kullandığımdan frenler yetersiz hi...      0\n",
      "3  2 yıldır kullanıyorum hiçbir sorun vermedi, şe...      0\n",
      "4  bisikleti ilk aldığımda frenlere pek alışamamı...      1\n"
     ]
    }
   ],
   "source": [
    "import json\n",
    "import pandas as pd\n",
    "\n",
    "with open(\"etiketli_yorumlar_tinyllama.json\", \"r\", encoding=\"utf-8\") as f:\n",
    "    data = json.load(f)\n",
    "\n",
    "df = pd.DataFrame(data[\"reviews\"])\n",
    "print(df.head())\n"
   ]
  },
  {
   "cell_type": "code",
   "execution_count": 2,
   "id": "7ba23a58",
   "metadata": {},
   "outputs": [
    {
     "name": "stdout",
     "output_type": "stream",
     "text": [
      "              precision    recall  f1-score   support\n",
      "\n",
      "           0      0.750     0.462     0.571        13\n",
      "           1      0.462     0.750     0.571         8\n",
      "\n",
      "    accuracy                          0.571        21\n",
      "   macro avg      0.606     0.606     0.571        21\n",
      "weighted avg      0.640     0.571     0.571        21\n",
      "\n"
     ]
    }
   ],
   "source": [
    "from sklearn.feature_extraction.text import TfidfVectorizer\n",
    "from sklearn.linear_model import LogisticRegression\n",
    "from sklearn.model_selection import train_test_split\n",
    "from sklearn.metrics import classification_report\n",
    "\n",
    "# Özellik ve hedef\n",
    "X_text = df[\"comment\"]\n",
    "y = df[\"label\"]\n",
    "\n",
    "# TF-IDF vektörleştirici\n",
    "vectorizer = TfidfVectorizer(max_features=3000, ngram_range=(1, 2))\n",
    "X = vectorizer.fit_transform(X_text)\n",
    "\n",
    "# Eğitim/test bölünmesi\n",
    "X_train, X_test, y_train, y_test = train_test_split(X, y, test_size=0.2, random_state=42)\n",
    "\n",
    "# Model eğitimi\n",
    "model = LogisticRegression(max_iter=1000, class_weight=\"balanced\")\n",
    "model.fit(X_train, y_train)\n",
    "\n",
    "# Değerlendirme\n",
    "y_pred = model.predict(X_test)\n",
    "print(classification_report(y_test, y_pred, digits=3))\n"
   ]
  },
  {
   "cell_type": "code",
   "execution_count": 6,
   "id": "4928e4b1",
   "metadata": {},
   "outputs": [
    {
     "name": "stdout",
     "output_type": "stream",
     "text": [
      "[('Ürün kötü çıktı, iade ettim.', 'Nötr'), ('Beklediğimden iyi, tavsiye ederim', 'Pozitif'), ('Orta kalite, iş görür', 'Pozitif'), ('Ürün çok iyi', 'Nötr'), ('Ürün çok kötü', 'Nötr')]\n"
     ]
    }
   ],
   "source": [
    "def yorum_tahmin_et(model, vectorizer, yorumlar):\n",
    "    X_yeni = vectorizer.transform(yorumlar)\n",
    "    tahminler = model.predict(X_yeni)\n",
    "    etiket_map = {-1: \"Negatif\", 0: \"Nötr\", 1: \"Pozitif\"}\n",
    "    return [(yorum, etiket_map[t]) for yorum, t in zip(yorumlar, tahminler)]\n",
    "\n",
    "# Örnek yeni yorumlar\n",
    "yeni_yorumlar = [\n",
    "    \"Ürün kötü çıktı, iade ettim.\",\n",
    "    \"Beklediğimden iyi, tavsiye ederim\",\n",
    "    \"Orta kalite, iş görür\",\n",
    "    \"Ürün çok iyi\",\n",
    "    \"Ürün çok kötü\"\n",
    "]\n",
    "\n",
    "print(yorum_tahmin_et(model, vectorizer, yeni_yorumlar))\n"
   ]
  }
 ],
 "metadata": {
  "kernelspec": {
   "display_name": "Python 3",
   "language": "python",
   "name": "python3"
  },
  "language_info": {
   "codemirror_mode": {
    "name": "ipython",
    "version": 3
   },
   "file_extension": ".py",
   "mimetype": "text/x-python",
   "name": "python",
   "nbconvert_exporter": "python",
   "pygments_lexer": "ipython3",
   "version": "3.13.5"
  }
 },
 "nbformat": 4,
 "nbformat_minor": 5
}
